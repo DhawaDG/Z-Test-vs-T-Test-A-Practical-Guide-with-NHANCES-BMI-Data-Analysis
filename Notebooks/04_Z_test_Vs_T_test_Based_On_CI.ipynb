{
 "cells": [
  {
   "cell_type": "markdown",
   "id": "ab4bf573-af06-442b-a98e-0074703cadbf",
   "metadata": {},
   "source": [
    "##  Z -test Vs T test"
   ]
  },
  {
   "cell_type": "markdown",
   "id": "6d799292-3fe0-43bf-998e-1d8b430359e1",
   "metadata": {},
   "source": [
    "#### 1. When to use?\n",
    "- Z test:\n",
    "  - Population standard deviation(sigma) is known\n",
    "  - Sample size is large(n>=30)(By CLT)\n",
    "- T test:\n",
    "  - Population standard deviation (sigma) is unknown (use  sample SD)\n",
    "  - Sample size is small(n<30)\n",
    "\n",
    "#### 2. Distribution Used\n",
    "- Z test: Standard Normal(z distribution)\n",
    "- T test: Student's distribution(fatter tails for small samples)\n",
    "\n",
    "\n"
   ]
  },
  {
   "cell_type": "markdown",
   "id": "f7736991-1453-4be9-9b6b-03d256a39e73",
   "metadata": {},
   "source": [
    "#### Differenciating Z-test and T-test based Confidence Intervals"
   ]
  },
  {
   "cell_type": "markdown",
   "id": "0995f6a3-2e8a-4fa5-bc3e-cea54b0fc167",
   "metadata": {},
   "source": [
    "###### Critical Value:\n",
    "- z test: Fixed z-value(e.g. 1.96 for 95% CI )\n",
    "- t test: t-value(varies with df, larger for small samples)\n",
    "###### Width of CI:\n",
    "- z test : Norrower(more precise)\n",
    "- t test : Wider(accounts for extra uncertainty)"
   ]
  },
  {
   "cell_type": "code",
   "execution_count": 1,
   "id": "aa40a4ff-2a63-454b-bec3-87d40935be86",
   "metadata": {},
   "outputs": [
    {
     "data": {
      "text/html": [
       "<div>\n",
       "<style scoped>\n",
       "    .dataframe tbody tr th:only-of-type {\n",
       "        vertical-align: middle;\n",
       "    }\n",
       "\n",
       "    .dataframe tbody tr th {\n",
       "        vertical-align: top;\n",
       "    }\n",
       "\n",
       "    .dataframe thead th {\n",
       "        text-align: right;\n",
       "    }\n",
       "</style>\n",
       "<table border=\"1\" class=\"dataframe\">\n",
       "  <thead>\n",
       "    <tr style=\"text-align: right;\">\n",
       "      <th></th>\n",
       "      <th>SEQN</th>\n",
       "      <th>BMXWT</th>\n",
       "      <th>BMXHT</th>\n",
       "      <th>BMXBMI</th>\n",
       "      <th>BMXWAIST</th>\n",
       "      <th>BMXHIP</th>\n",
       "      <th>BMXARMC</th>\n",
       "      <th>BMXLEG</th>\n",
       "      <th>BMXARML</th>\n",
       "    </tr>\n",
       "  </thead>\n",
       "  <tbody>\n",
       "    <tr>\n",
       "      <th>0</th>\n",
       "      <td>130378.0</td>\n",
       "      <td>86.9</td>\n",
       "      <td>179.5</td>\n",
       "      <td>27.0</td>\n",
       "      <td>98.3</td>\n",
       "      <td>102.9</td>\n",
       "      <td>35.7</td>\n",
       "      <td>42.800000</td>\n",
       "      <td>42.0</td>\n",
       "    </tr>\n",
       "    <tr>\n",
       "      <th>1</th>\n",
       "      <td>130379.0</td>\n",
       "      <td>101.8</td>\n",
       "      <td>174.2</td>\n",
       "      <td>33.5</td>\n",
       "      <td>114.7</td>\n",
       "      <td>112.4</td>\n",
       "      <td>33.7</td>\n",
       "      <td>38.500000</td>\n",
       "      <td>38.7</td>\n",
       "    </tr>\n",
       "    <tr>\n",
       "      <th>2</th>\n",
       "      <td>130380.0</td>\n",
       "      <td>69.4</td>\n",
       "      <td>152.9</td>\n",
       "      <td>29.7</td>\n",
       "      <td>93.5</td>\n",
       "      <td>98.0</td>\n",
       "      <td>36.3</td>\n",
       "      <td>38.500000</td>\n",
       "      <td>35.5</td>\n",
       "    </tr>\n",
       "    <tr>\n",
       "      <th>3</th>\n",
       "      <td>130381.0</td>\n",
       "      <td>34.3</td>\n",
       "      <td>120.1</td>\n",
       "      <td>23.8</td>\n",
       "      <td>70.4</td>\n",
       "      <td>103.7</td>\n",
       "      <td>23.4</td>\n",
       "      <td>38.128843</td>\n",
       "      <td>25.4</td>\n",
       "    </tr>\n",
       "    <tr>\n",
       "      <th>4</th>\n",
       "      <td>130386.0</td>\n",
       "      <td>90.6</td>\n",
       "      <td>173.3</td>\n",
       "      <td>30.2</td>\n",
       "      <td>106.1</td>\n",
       "      <td>110.6</td>\n",
       "      <td>35.7</td>\n",
       "      <td>42.800000</td>\n",
       "      <td>36.2</td>\n",
       "    </tr>\n",
       "  </tbody>\n",
       "</table>\n",
       "</div>"
      ],
      "text/plain": [
       "       SEQN  BMXWT  BMXHT  BMXBMI  BMXWAIST  BMXHIP  BMXARMC     BMXLEG  \\\n",
       "0  130378.0   86.9  179.5    27.0      98.3   102.9     35.7  42.800000   \n",
       "1  130379.0  101.8  174.2    33.5     114.7   112.4     33.7  38.500000   \n",
       "2  130380.0   69.4  152.9    29.7      93.5    98.0     36.3  38.500000   \n",
       "3  130381.0   34.3  120.1    23.8      70.4   103.7     23.4  38.128843   \n",
       "4  130386.0   90.6  173.3    30.2     106.1   110.6     35.7  42.800000   \n",
       "\n",
       "   BMXARML  \n",
       "0     42.0  \n",
       "1     38.7  \n",
       "2     35.5  \n",
       "3     25.4  \n",
       "4     36.2  "
      ]
     },
     "execution_count": 1,
     "metadata": {},
     "output_type": "execute_result"
    }
   ],
   "source": [
    "import pandas as pd\n",
    "data=pd.read_csv('NHANES_BMI_clean_data.csv')\n",
    "data.head()"
   ]
  },
  {
   "cell_type": "code",
   "execution_count": 3,
   "id": "270dc08b-6fef-4495-9d2c-08f1c225a079",
   "metadata": {},
   "outputs": [
    {
     "name": "stdout",
     "output_type": "stream",
     "text": [
      "True Population mean:, 38.13\n",
      "CI z test: [36.5  38.34]\n",
      "CI t test: [37.04 40.04]\n"
     ]
    }
   ],
   "source": [
    "import numpy as np\n",
    "from scipy import stats\n",
    "from scipy.stats import norm\n",
    "\n",
    "#sample data\n",
    "np.random.seed(0)\n",
    "df=data.copy()\n",
    "\n",
    "#t test sample\n",
    "t_sample=df['BMXLEG'].sample(20)\n",
    "\n",
    "#z test sample\n",
    "z_sample = df['BMXLEG'].sample(50)\n",
    "\n",
    "# performing CI z test \n",
    "#--------------------------Manually----------------------------#\n",
    "z_n= len(z_sample)\n",
    "z_mean= np.mean(z_sample)\n",
    "z_std =np.std(z_sample,ddof=1)\n",
    "z_margin= norm.ppf(0.975) * (z_std/np.sqrt(z_n))\n",
    "z_ci= (z_mean-z_margin,z_mean + z_margin)\n",
    "\n",
    "#------------------------Built-in-----------------------------#\n",
    "z_ci= norm.interval(confidence=0.95,loc=z_mean, scale=z_std/np.sqrt(z_n))\n",
    "\n",
    "\n",
    "#performing CI t test\n",
    "#--------------------------Manually----------------------------#\n",
    "t_n= len(t_sample)\n",
    "t_mean= np.mean(t_sample)\n",
    "t_std =np.std(t_sample,ddof=1)\n",
    "t_margin= stats.t.ppf(0.975, df=t_n-1) * (t_std/np.sqrt(t_n))\n",
    "t_ci= (t_mean-t_margin,t_mean + t_margin)\n",
    "\n",
    "#------------------------Built-in-----------------------------#\n",
    "t_ci= stats.t.interval(confidence=0.95,df=t_n-1,loc=t_mean, scale=t_std/np.sqrt(t_n))\n",
    "\n",
    "print(f'True Population mean:, {data['BMXLEG'].mean():.2f}')\n",
    "print(\"CI z test:\", np.round(z_ci, 2))\n",
    "print(\"CI t test:\", np.round(t_ci, 2))\n",
    "\n",
    "                                                               \n"
   ]
  },
  {
   "cell_type": "markdown",
   "id": "f27d624c-d49c-4b05-afca-12fed0926582",
   "metadata": {},
   "source": [
    "#### Intrepretation\n",
    "\n",
    "- CI z test [36.5, 38.34]: You are 95% confident that true population mean of BMXLEG lies between 36.5 and 38.34 cm\n",
    "- CI t test [37.04 40.04]: You are 95% confident that true population mean of BMXLEG lies between 37.04 and 40.04 cm\n",
    "- ##### Why the ranges differ?\n",
    "    - t distribution is wider(has heavier tails) than the z- distribution which means it gives wider interval to reflect more uncertainty in small            samples.\n",
    "    - That's why the t test ci is broader than the z test CI, even though both target the same variable."
   ]
  },
  {
   "cell_type": "code",
   "execution_count": 30,
   "id": "08807fc2-2efd-44c1-97d7-b1a72958a6a2",
   "metadata": {},
   "outputs": [
    {
     "data": {
      "image/png": "[encoded data removed]",
      "text/plain": [
       "<Figure size 1000x500 with 1 Axes>"
      ]
     },
     "metadata": {},
     "output_type": "display_data"
    }
   ],
   "source": [
    "import matplotlib.pyplot as plt\n",
    "\n",
    "# True population mean\n",
    "pop_mean = data['BMXLEG'].mean()\n",
    "\n",
    "# Plot confidence intervals\n",
    "plt.figure(figsize=(10, 5))\n",
    "\n",
    "# Plot population mean\n",
    "plt.axhline(y=pop_mean, color='red', linestyle='--', label='True Population Mean')\n",
    "\n",
    "# Plot Z-test CI\n",
    "plt.errorbar(x=1, y=z_mean, yerr=(z_ci[1]-z_mean), fmt='o', capsize=5, label='Z-test CI (n=50)', color='blue')\n",
    "\n",
    "# Plot T-test CI\n",
    "plt.errorbar(x=2, y=t_mean, yerr=(t_ci[1]-t_mean), fmt='o', capsize=5, label='T-test CI (n=20)', color='green')\n",
    "\n",
    "# Decorations\n",
    "plt.xticks([1, 2], ['Z-test', 'T-test'])\n",
    "plt.ylabel('BMXLEG Mean with 95% CI')\n",
    "plt.title('Confidence Intervals: Z-test vs T-test on BMXLEG')\n",
    "plt.legend()\n",
    "plt.grid(True)\n",
    "plt.tight_layout()\n",
    "plt.savefig('Differenciating_Z_test_and_T_test_based_Confidence_Intervals.png')\n",
    "\n",
    "plt.show()\n"
   ]
  }
 ],
 "metadata": {
  "kernelspec": {
   "display_name": "Python [conda env:base] *",
   "language": "python",
   "name": "conda-base-py"
  },
  "language_info": {
   "codemirror_mode": {
    "name": "ipython",
    "version": 3
   },
   "file_extension": ".py",
   "mimetype": "text/x-python",
   "name": "python",
   "nbconvert_exporter": "python",
   "pygments_lexer": "ipython3",
   "version": "3.12.7"
  }
 },
 "nbformat": 4,
 "nbformat_minor": 5
}
