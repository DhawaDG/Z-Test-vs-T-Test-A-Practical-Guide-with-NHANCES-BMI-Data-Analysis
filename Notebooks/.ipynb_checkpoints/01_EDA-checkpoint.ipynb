{
 "cells": [
  {
   "cell_type": "markdown",
   "id": "86ea5297-f804-44a6-9495-fc55527aef9b",
   "metadata": {},
   "source": [
    "## Conveting xpt file in CSV file "
   ]
  },
  {
   "cell_type": "code",
   "execution_count": 11,
   "id": "ba6993ed-df73-407f-b1eb-4f3efd9f34de",
   "metadata": {},
   "outputs": [
    {
     "name": "stdout",
     "output_type": "stream",
     "text": [
      "Defaulting to user installation because normal site-packages is not writeable\n",
      "Collecting pyreadstat\n",
      "  Downloading pyreadstat-1.2.8-cp312-cp312-win_amd64.whl.metadata (1.1 kB)\n",
      "Requirement already satisfied: pandas in c:\\programdata\\anaconda3\\lib\\site-packages (2.2.2)\n",
      "Requirement already satisfied: numpy>=1.26.0 in c:\\programdata\\anaconda3\\lib\\site-packages (from pandas) (1.26.4)\n",
      "Requirement already satisfied: python-dateutil>=2.8.2 in c:\\programdata\\anaconda3\\lib\\site-packages (from pandas) (2.9.0.post0)\n",
      "Requirement already satisfied: pytz>=2020.1 in c:\\programdata\\anaconda3\\lib\\site-packages (from pandas) (2024.1)\n",
      "Requirement already satisfied: tzdata>=2022.7 in c:\\programdata\\anaconda3\\lib\\site-packages (from pandas) (2023.3)\n",
      "Requirement already satisfied: six>=1.5 in c:\\programdata\\anaconda3\\lib\\site-packages (from python-dateutil>=2.8.2->pandas) (1.16.0)\n",
      "Downloading pyreadstat-1.2.8-cp312-cp312-win_amd64.whl (2.4 MB)\n",
      "   ---------------------------------------- 0.0/2.4 MB ? eta -:--:--\n",
      "   ---------------------------------------- 0.0/2.4 MB ? eta -:--:--\n",
      "   ---------------------------------------- 0.0/2.4 MB ? eta -:--:--\n",
      "   ---------------------------------------- 0.0/2.4 MB ? eta -:--:--\n",
      "   ---------------------------------------- 0.0/2.4 MB ? eta -:--:--\n",
      "   ---- ----------------------------------- 0.3/2.4 MB ? eta -:--:--\n",
      "   -------- ------------------------------- 0.5/2.4 MB 932.9 kB/s eta 0:00:03\n",
      "   ----------------- ---------------------- 1.0/2.4 MB 1.4 MB/s eta 0:00:01\n",
      "   ------------------------------ --------- 1.8/2.4 MB 2.2 MB/s eta 0:00:01\n",
      "   ---------------------------------------- 2.4/2.4 MB 2.4 MB/s eta 0:00:00\n",
      "Installing collected packages: pyreadstat\n",
      "Successfully installed pyreadstat-1.2.8\n",
      "Note: you may need to restart the kernel to use updated packages.\n"
     ]
    }
   ],
   "source": [
    "pip install pyreadstat pandas"
   ]
  },
  {
   "cell_type": "code",
   "execution_count": 16,
   "id": "e2bc1662-75de-417b-b955-60e4113c73a1",
   "metadata": {},
   "outputs": [],
   "source": [
    "import pandas as pd\n",
    "import pyreadstat  # Best for NHANES metadata\n",
    "\n",
    "# Read XPT file\n",
    "df, meta = pyreadstat.read_xport(\"BMX_L.xpt\")\n",
    "\n",
    "# Save as CSV\n",
    "df.to_csv(\"NHANES_DATA.csv\", index=False)\n"
   ]
  },
  {
   "cell_type": "markdown",
   "id": "97f6225a-a268-4b65-b222-2f96a2d9f768",
   "metadata": {},
   "source": [
    "## Diplaying data "
   ]
  },
  {
   "cell_type": "code",
   "execution_count": 20,
   "id": "b8b4d6ae-1698-4432-ad5a-2f1bd395f383",
   "metadata": {},
   "outputs": [
    {
     "data": {
      "text/plain": [
       "(       SEQN  BMDSTATS  BMXWT  BMIWT  BMXRECUM  BMIRECUM  BMXHEAD  BMIHEAD  \\\n",
       " 0  130378.0       1.0   86.9    NaN       NaN       NaN      NaN      NaN   \n",
       " 1  130379.0       1.0  101.8    NaN       NaN       NaN      NaN      NaN   \n",
       " 2  130380.0       1.0   69.4    NaN       NaN       NaN      NaN      NaN   \n",
       " 3  130381.0       1.0   34.3    NaN       NaN       NaN      NaN      NaN   \n",
       " 4  130382.0       3.0   13.6    NaN       NaN       1.0      NaN      NaN   \n",
       " \n",
       "    BMXHT  BMIHT  ...  BMXLEG  BMILEG  BMXARML  BMIARML  BMXARMC  BMIARMC  \\\n",
       " 0  179.5    NaN  ...    42.8     NaN     42.0      NaN     35.7      NaN   \n",
       " 1  174.2    NaN  ...    38.5     NaN     38.7      NaN     33.7      NaN   \n",
       " 2  152.9    NaN  ...    38.5     NaN     35.5      NaN     36.3      NaN   \n",
       " 3  120.1    NaN  ...     NaN     NaN     25.4      NaN     23.4      NaN   \n",
       " 4    NaN    1.0  ...     NaN     NaN      NaN      1.0      NaN      1.0   \n",
       " \n",
       "    BMXWAIST  BMIWAIST  BMXHIP  BMIHIP  \n",
       " 0      98.3       NaN   102.9     NaN  \n",
       " 1     114.7       NaN   112.4     NaN  \n",
       " 2      93.5       NaN    98.0     NaN  \n",
       " 3      70.4       NaN     NaN     NaN  \n",
       " 4       NaN       1.0     NaN     NaN  \n",
       " \n",
       " [5 rows x 22 columns],\n",
       " ['SEQN',\n",
       "  'BMDSTATS',\n",
       "  'BMXWT',\n",
       "  'BMIWT',\n",
       "  'BMXRECUM',\n",
       "  'BMIRECUM',\n",
       "  'BMXHEAD',\n",
       "  'BMIHEAD',\n",
       "  'BMXHT',\n",
       "  'BMIHT',\n",
       "  'BMXBMI',\n",
       "  'BMDBMIC',\n",
       "  'BMXLEG',\n",
       "  'BMILEG',\n",
       "  'BMXARML',\n",
       "  'BMIARML',\n",
       "  'BMXARMC',\n",
       "  'BMIARMC',\n",
       "  'BMXWAIST',\n",
       "  'BMIWAIST',\n",
       "  'BMXHIP',\n",
       "  'BMIHIP'])"
      ]
     },
     "execution_count": 20,
     "metadata": {},
     "output_type": "execute_result"
    }
   ],
   "source": [
    "data=pd.read_csv('NHANES_DATA.csv')\n",
    "data.head(), df.columns.tolist()"
   ]
  },
  {
   "cell_type": "markdown",
   "id": "f0b89979-1b2f-4a98-9488-7c60a9174f06",
   "metadata": {},
   "source": [
    "### Column Name\tFull Form"
   ]
  },
  {
   "cell_type": "markdown",
   "id": "255e7248-e438-4ec9-b7c0-39df96e66496",
   "metadata": {},
   "source": [
    "\n",
    "- SEQN      : \tSequence Number (Unique Participant ID)\n",
    "- BMDSTATS  :\tBody Measures Status Code (exam completeness)\n",
    "- BMXWT\tBody:   Weight (in kilograms)\n",
    "- BMIWT\tBMI :   Comment for Weight (validity or measurement status)\n",
    "- BMXRECUM  :\tRecumbent Length (used for infants/children, in cm)\n",
    "- BMIRECUM  :\tBMI Comment for Recumbent Length\n",
    "- BMXHEAD   :\tHead Circumference (cm)\n",
    "- BMIHEAD   :\tBMI Comment for Head Circumference\n",
    "- BMXHT     :\tStanding Height (cm)\n",
    "- BMIHT     :\tBMI Comment for Height\n",
    "- BMXBMI    :\tBody Mass Index (kg/m²)\n",
    "- BMDBMIC   :\tBMI Category Code (e.g., Underweight, Normal, Overweight, Obese)\n",
    "- BMXLEG    :\tUpper Leg Length (cm)\n",
    "- BMILEG    :\tBMI Comment for Leg Length\n",
    "- BMXARML   :\tUpper Arm Length (cm)\n",
    "- BMIARML   :\tBMI Comment for Arm Length\n",
    "- BMXARMC   :\tMid-Upper Arm Circumference (cm)\n",
    "- BMIARMC   :\tBMI Comment for Arm Circumference\n",
    "- BMXWAIST  :\tWaist Circumference (cm)\n",
    "- BMIWAIST  :\tBMI Comment for Waist Circumference\n",
    "- BMXHIP    :\tHip Circumference (cm)\n",
    "- BMIHIP    :\tBMI Comment for Hip Circumference"
   ]
  },
  {
   "cell_type": "markdown",
   "id": "d6d9ce4d-d884-42f4-b005-c248c7445433",
   "metadata": {},
   "source": [
    " ## Keeping Only Useful Columns\n",
    "You have many columns like BMIWT, BMIHT, BMIWAIST, etc. — these are \"comment columns\" (only tell if the measurement was valid/invalid).\n",
    "We will keep only the true measurement columns, like: BMXWT, BMXHT, BMXBMI, BMXWAIST, BMXHIP, BMXARMC, BMXLEG, BMXARML\n",
    "SEQN (optional — useful for tracking individuals)"
   ]
  },
  {
   "cell_type": "code",
   "execution_count": 77,
   "id": "dcf7b453-6fea-4596-8973-bae0afbba216",
   "metadata": {},
   "outputs": [
    {
     "data": {
      "text/html": [
       "<div>\n",
       "<style scoped>\n",
       "    .dataframe tbody tr th:only-of-type {\n",
       "        vertical-align: middle;\n",
       "    }\n",
       "\n",
       "    .dataframe tbody tr th {\n",
       "        vertical-align: top;\n",
       "    }\n",
       "\n",
       "    .dataframe thead th {\n",
       "        text-align: right;\n",
       "    }\n",
       "</style>\n",
       "<table border=\"1\" class=\"dataframe\">\n",
       "  <thead>\n",
       "    <tr style=\"text-align: right;\">\n",
       "      <th></th>\n",
       "      <th>SEQN</th>\n",
       "      <th>BMXWT</th>\n",
       "      <th>BMXHT</th>\n",
       "      <th>BMXBMI</th>\n",
       "      <th>BMXWAIST</th>\n",
       "      <th>BMXHIP</th>\n",
       "      <th>BMXARMC</th>\n",
       "      <th>BMXLEG</th>\n",
       "      <th>BMXARML</th>\n",
       "    </tr>\n",
       "  </thead>\n",
       "  <tbody>\n",
       "    <tr>\n",
       "      <th>0</th>\n",
       "      <td>130378.0</td>\n",
       "      <td>86.9</td>\n",
       "      <td>179.5</td>\n",
       "      <td>27.0</td>\n",
       "      <td>98.3</td>\n",
       "      <td>102.9</td>\n",
       "      <td>35.7</td>\n",
       "      <td>42.8</td>\n",
       "      <td>42.0</td>\n",
       "    </tr>\n",
       "    <tr>\n",
       "      <th>1</th>\n",
       "      <td>130379.0</td>\n",
       "      <td>101.8</td>\n",
       "      <td>174.2</td>\n",
       "      <td>33.5</td>\n",
       "      <td>114.7</td>\n",
       "      <td>112.4</td>\n",
       "      <td>33.7</td>\n",
       "      <td>38.5</td>\n",
       "      <td>38.7</td>\n",
       "    </tr>\n",
       "    <tr>\n",
       "      <th>2</th>\n",
       "      <td>130380.0</td>\n",
       "      <td>69.4</td>\n",
       "      <td>152.9</td>\n",
       "      <td>29.7</td>\n",
       "      <td>93.5</td>\n",
       "      <td>98.0</td>\n",
       "      <td>36.3</td>\n",
       "      <td>38.5</td>\n",
       "      <td>35.5</td>\n",
       "    </tr>\n",
       "    <tr>\n",
       "      <th>3</th>\n",
       "      <td>130381.0</td>\n",
       "      <td>34.3</td>\n",
       "      <td>120.1</td>\n",
       "      <td>23.8</td>\n",
       "      <td>70.4</td>\n",
       "      <td>NaN</td>\n",
       "      <td>23.4</td>\n",
       "      <td>NaN</td>\n",
       "      <td>25.4</td>\n",
       "    </tr>\n",
       "    <tr>\n",
       "      <th>4</th>\n",
       "      <td>130382.0</td>\n",
       "      <td>13.6</td>\n",
       "      <td>NaN</td>\n",
       "      <td>NaN</td>\n",
       "      <td>NaN</td>\n",
       "      <td>NaN</td>\n",
       "      <td>NaN</td>\n",
       "      <td>NaN</td>\n",
       "      <td>NaN</td>\n",
       "    </tr>\n",
       "  </tbody>\n",
       "</table>\n",
       "</div>"
      ],
      "text/plain": [
       "       SEQN  BMXWT  BMXHT  BMXBMI  BMXWAIST  BMXHIP  BMXARMC  BMXLEG  BMXARML\n",
       "0  130378.0   86.9  179.5    27.0      98.3   102.9     35.7    42.8     42.0\n",
       "1  130379.0  101.8  174.2    33.5     114.7   112.4     33.7    38.5     38.7\n",
       "2  130380.0   69.4  152.9    29.7      93.5    98.0     36.3    38.5     35.5\n",
       "3  130381.0   34.3  120.1    23.8      70.4     NaN     23.4     NaN     25.4\n",
       "4  130382.0   13.6    NaN     NaN       NaN     NaN      NaN     NaN      NaN"
      ]
     },
     "execution_count": 77,
     "metadata": {},
     "output_type": "execute_result"
    }
   ],
   "source": [
    "#keep only useful measurement columns(excluding BMI comment columns)\n",
    "\n",
    "useful_col=[\n",
    "     \"SEQN\", \"BMXWT\", \"BMXHT\", \"BMXBMI\", \"BMXWAIST\", \n",
    "    \"BMXHIP\", \"BMXARMC\", \"BMXLEG\", \"BMXARML\"\n",
    "]\n",
    "cleaned_data=data[useful_col].copy()\n",
    "cleaned_data.head()\n"
   ]
  },
  {
   "cell_type": "markdown",
   "id": "3a97ea9e-9f0b-4ef4-90b2-1aa246eef232",
   "metadata": {},
   "source": [
    "## we only keeping column\n",
    "- SEQN\t:Survey Participant Identifier – unique ID for each respondent\n",
    "- BMXWT\t:Body Measurement: Weight (kg)\n",
    "- BMXHT\t :Body Measurement: Standing Height (cm)\n",
    "- BMXBMI  :Body Mass Index (BMI) – calculated as weight (kg) / height (m)^2\n",
    "- BMXWAIST :Waist Circumference (cm) – measured at the iliac crest\n",
    "- BMXHIP    :Hip Circumference (cm) – widest point around the buttocks\n",
    "- BMXARMC   :Arm Circumference (cm) – measured at midpoint of upper arm\n",
    "- BMXLEG    :Upper Leg Length (cm) – measured from hip to knee\n",
    "- BMXARML   :Upper Arm Length (cm) – measured from shoulder to elbow"
   ]
  },
  {
   "cell_type": "markdown",
   "id": "f0e64116-9568-44ef-9a22-42654cb7d54c",
   "metadata": {},
   "source": [
    "## Checking Missing value percent"
   ]
  },
  {
   "cell_type": "code",
   "execution_count": 61,
   "id": "f3d34c96-8ed2-46ad-8532-c9b0658e2bba",
   "metadata": {},
   "outputs": [
    {
     "name": "stdout",
     "output_type": "stream",
     "text": [
      "Missing Percentage: [0.0, 1.2, 4.07, 4.39, 7.56, 23.52, 3.36, 17.21, 3.3]\n"
     ]
    }
   ],
   "source": [
    "missing_count = cleaned_data.isnull().sum()\n",
    "total_rows = len(cleaned_data)\n",
    "missing_percentage = (missing_count / total_rows) * 100\n",
    "print(\"Missing Percentage:\", [round(i, 2) for i in missing_percentage])\n"
   ]
  },
  {
   "cell_type": "markdown",
   "id": "93fd15f4-bdfd-49fd-8d3a-ecaeecd205fc",
   "metadata": {},
   "source": [
    "## Rule of thumb\n",
    "From Rubin's missing data theory, power analysis, and practical experience across industries.>30% missing usually triggers concern and needs special handling.often use rules of thumb:\n",
    "\n",
    "- less than 5% missing = very little concern.\n",
    "\n",
    "- 5–20% missing = careful analysis needed.\n",
    "\n",
    "- 20–30% missing = serious concern.\n",
    "\n",
    "- greater than 50% missing = often unacceptable.\n",
    "\n",
    "Example reference:\n",
    "\n",
    "Jakobsen et al. (2017) — When and How Should Multiple Imputation Be Used for Handling Missing Data in Randomized Clinical Trials?\n",
    "\n",
    "\n",
    "\n"
   ]
  },
  {
   "cell_type": "code",
   "execution_count": 79,
   "id": "51172bf9-ff93-4eff-a8f7-bfeb2f8861ae",
   "metadata": {},
   "outputs": [],
   "source": [
    "#since SEQN,BMXWT,BMXHT,BMXBMI have less than 5% missing value, its suitable to apply dropna()\n",
    "cleaned_data = cleaned_data.dropna(subset=['SEQN','BMXWT','BMXHT','BMXBMI'])\n"
   ]
  },
  {
   "cell_type": "code",
   "execution_count": 108,
   "id": "2cbb5706-f317-4c31-b93b-44cdb79cd14c",
   "metadata": {},
   "outputs": [
    {
     "data": {
      "text/html": [
       "<div>\n",
       "<style scoped>\n",
       "    .dataframe tbody tr th:only-of-type {\n",
       "        vertical-align: middle;\n",
       "    }\n",
       "\n",
       "    .dataframe tbody tr th {\n",
       "        vertical-align: top;\n",
       "    }\n",
       "\n",
       "    .dataframe thead th {\n",
       "        text-align: right;\n",
       "    }\n",
       "</style>\n",
       "<table border=\"1\" class=\"dataframe\">\n",
       "  <thead>\n",
       "    <tr style=\"text-align: right;\">\n",
       "      <th></th>\n",
       "      <th>SEQN</th>\n",
       "      <th>BMXWT</th>\n",
       "      <th>BMXHT</th>\n",
       "      <th>BMXBMI</th>\n",
       "      <th>BMXWAIST</th>\n",
       "      <th>BMXHIP</th>\n",
       "      <th>BMXARMC</th>\n",
       "      <th>BMXLEG</th>\n",
       "      <th>BMXARML</th>\n",
       "    </tr>\n",
       "  </thead>\n",
       "  <tbody>\n",
       "    <tr>\n",
       "      <th>0</th>\n",
       "      <td>130378.0</td>\n",
       "      <td>86.9</td>\n",
       "      <td>179.5</td>\n",
       "      <td>27.0</td>\n",
       "      <td>98.3</td>\n",
       "      <td>102.9</td>\n",
       "      <td>35.7</td>\n",
       "      <td>42.8</td>\n",
       "      <td>42.0</td>\n",
       "    </tr>\n",
       "    <tr>\n",
       "      <th>1</th>\n",
       "      <td>130379.0</td>\n",
       "      <td>101.8</td>\n",
       "      <td>174.2</td>\n",
       "      <td>33.5</td>\n",
       "      <td>114.7</td>\n",
       "      <td>112.4</td>\n",
       "      <td>33.7</td>\n",
       "      <td>38.5</td>\n",
       "      <td>38.7</td>\n",
       "    </tr>\n",
       "    <tr>\n",
       "      <th>2</th>\n",
       "      <td>130380.0</td>\n",
       "      <td>69.4</td>\n",
       "      <td>152.9</td>\n",
       "      <td>29.7</td>\n",
       "      <td>93.5</td>\n",
       "      <td>98.0</td>\n",
       "      <td>36.3</td>\n",
       "      <td>38.5</td>\n",
       "      <td>35.5</td>\n",
       "    </tr>\n",
       "    <tr>\n",
       "      <th>3</th>\n",
       "      <td>130381.0</td>\n",
       "      <td>34.3</td>\n",
       "      <td>120.1</td>\n",
       "      <td>23.8</td>\n",
       "      <td>70.4</td>\n",
       "      <td>NaN</td>\n",
       "      <td>23.4</td>\n",
       "      <td>NaN</td>\n",
       "      <td>25.4</td>\n",
       "    </tr>\n",
       "    <tr>\n",
       "      <th>5</th>\n",
       "      <td>130386.0</td>\n",
       "      <td>90.6</td>\n",
       "      <td>173.3</td>\n",
       "      <td>30.2</td>\n",
       "      <td>106.1</td>\n",
       "      <td>110.6</td>\n",
       "      <td>35.7</td>\n",
       "      <td>42.8</td>\n",
       "      <td>36.2</td>\n",
       "    </tr>\n",
       "  </tbody>\n",
       "</table>\n",
       "</div>"
      ],
      "text/plain": [
       "       SEQN  BMXWT  BMXHT  BMXBMI  BMXWAIST  BMXHIP  BMXARMC  BMXLEG  BMXARML\n",
       "0  130378.0   86.9  179.5    27.0      98.3   102.9     35.7    42.8     42.0\n",
       "1  130379.0  101.8  174.2    33.5     114.7   112.4     33.7    38.5     38.7\n",
       "2  130380.0   69.4  152.9    29.7      93.5    98.0     36.3    38.5     35.5\n",
       "3  130381.0   34.3  120.1    23.8      70.4     NaN     23.4     NaN     25.4\n",
       "5  130386.0   90.6  173.3    30.2     106.1   110.6     35.7    42.8     36.2"
      ]
     },
     "execution_count": 108,
     "metadata": {},
     "output_type": "execute_result"
    }
   ],
   "source": [
    "cleaned_data_1stphase=cleaned_data.copy()\n",
    "cleaned_data_1stphase.head()"
   ]
  },
  {
   "cell_type": "code",
   "execution_count": 83,
   "id": "7f798bd2-5dcd-4739-9e37-a82b95f2a82f",
   "metadata": {},
   "outputs": [
    {
     "data": {
      "text/plain": [
       "SEQN      0\n",
       "BMXWT     0\n",
       "BMXHT     0\n",
       "BMXBMI    0\n",
       "dtype: int64"
      ]
     },
     "execution_count": 83,
     "metadata": {},
     "output_type": "execute_result"
    }
   ],
   "source": [
    "cleaned_data[['SEQN', 'BMXWT', 'BMXHT', 'BMXBMI']].isnull().sum()"
   ]
  },
  {
   "cell_type": "markdown",
   "id": "50f919c1-1e0e-4b67-800e-eebb16c3334d",
   "metadata": {},
   "source": [
    "### checking missing value of remaining column"
   ]
  },
  {
   "cell_type": "code",
   "execution_count": 110,
   "id": "4c3a752a-4949-4d8d-a314-ff9c5ee320da",
   "metadata": {
    "scrolled": true
   },
   "outputs": [
    {
     "name": "stdout",
     "output_type": "stream",
     "text": [
      "Missing Percentage: [3.61, 20.19, 1.97, 13.6, 1.94]\n"
     ]
    }
   ],
   "source": [
    "# Columns to check\n",
    "remaining_cols = ['BMXWAIST', 'BMXHIP', 'BMXARMC', 'BMXLEG', 'BMXARML']\n",
    "\n",
    "# Missing percentage\n",
    "missing_count = cleaned_data_1stphase[remaining_cols].isnull().sum()\n",
    "total_rows = len(cleaned_data_1stphase)\n",
    "missing_percentage = (missing_count / total_rows) * 100\n",
    "print(\"Missing Percentage:\", [round(i, 2) for i in missing_percentage])\n"
   ]
  },
  {
   "cell_type": "markdown",
   "id": "a472ef3b-b7de-435b-854c-0918392bd449",
   "metadata": {},
   "source": [
    "Columns with < 5% missing = Safe for dropna():\n",
    "- 'BMXWAIST': 3.61%\n",
    "\n",
    "- 'BMXARMC': 1.97%\n",
    "\n",
    "- 'BMXARML': 1.94%"
   ]
  },
  {
   "cell_type": "code",
   "execution_count": 116,
   "id": "36753290-d5c3-44e0-bbcc-56941c9c37bf",
   "metadata": {
    "scrolled": true
   },
   "outputs": [
    {
     "data": {
      "text/html": [
       "<div>\n",
       "<style scoped>\n",
       "    .dataframe tbody tr th:only-of-type {\n",
       "        vertical-align: middle;\n",
       "    }\n",
       "\n",
       "    .dataframe tbody tr th {\n",
       "        vertical-align: top;\n",
       "    }\n",
       "\n",
       "    .dataframe thead th {\n",
       "        text-align: right;\n",
       "    }\n",
       "</style>\n",
       "<table border=\"1\" class=\"dataframe\">\n",
       "  <thead>\n",
       "    <tr style=\"text-align: right;\">\n",
       "      <th></th>\n",
       "      <th>SEQN</th>\n",
       "      <th>BMXWT</th>\n",
       "      <th>BMXHT</th>\n",
       "      <th>BMXBMI</th>\n",
       "      <th>BMXWAIST</th>\n",
       "      <th>BMXHIP</th>\n",
       "      <th>BMXARMC</th>\n",
       "      <th>BMXLEG</th>\n",
       "      <th>BMXARML</th>\n",
       "    </tr>\n",
       "  </thead>\n",
       "  <tbody>\n",
       "    <tr>\n",
       "      <th>0</th>\n",
       "      <td>130378.0</td>\n",
       "      <td>86.9</td>\n",
       "      <td>179.5</td>\n",
       "      <td>27.0</td>\n",
       "      <td>98.3</td>\n",
       "      <td>102.9</td>\n",
       "      <td>35.7</td>\n",
       "      <td>42.8</td>\n",
       "      <td>42.0</td>\n",
       "    </tr>\n",
       "    <tr>\n",
       "      <th>1</th>\n",
       "      <td>130379.0</td>\n",
       "      <td>101.8</td>\n",
       "      <td>174.2</td>\n",
       "      <td>33.5</td>\n",
       "      <td>114.7</td>\n",
       "      <td>112.4</td>\n",
       "      <td>33.7</td>\n",
       "      <td>38.5</td>\n",
       "      <td>38.7</td>\n",
       "    </tr>\n",
       "    <tr>\n",
       "      <th>2</th>\n",
       "      <td>130380.0</td>\n",
       "      <td>69.4</td>\n",
       "      <td>152.9</td>\n",
       "      <td>29.7</td>\n",
       "      <td>93.5</td>\n",
       "      <td>98.0</td>\n",
       "      <td>36.3</td>\n",
       "      <td>38.5</td>\n",
       "      <td>35.5</td>\n",
       "    </tr>\n",
       "    <tr>\n",
       "      <th>3</th>\n",
       "      <td>130381.0</td>\n",
       "      <td>34.3</td>\n",
       "      <td>120.1</td>\n",
       "      <td>23.8</td>\n",
       "      <td>70.4</td>\n",
       "      <td>NaN</td>\n",
       "      <td>23.4</td>\n",
       "      <td>NaN</td>\n",
       "      <td>25.4</td>\n",
       "    </tr>\n",
       "    <tr>\n",
       "      <th>5</th>\n",
       "      <td>130386.0</td>\n",
       "      <td>90.6</td>\n",
       "      <td>173.3</td>\n",
       "      <td>30.2</td>\n",
       "      <td>106.1</td>\n",
       "      <td>110.6</td>\n",
       "      <td>35.7</td>\n",
       "      <td>42.8</td>\n",
       "      <td>36.2</td>\n",
       "    </tr>\n",
       "  </tbody>\n",
       "</table>\n",
       "</div>"
      ],
      "text/plain": [
       "       SEQN  BMXWT  BMXHT  BMXBMI  BMXWAIST  BMXHIP  BMXARMC  BMXLEG  BMXARML\n",
       "0  130378.0   86.9  179.5    27.0      98.3   102.9     35.7    42.8     42.0\n",
       "1  130379.0  101.8  174.2    33.5     114.7   112.4     33.7    38.5     38.7\n",
       "2  130380.0   69.4  152.9    29.7      93.5    98.0     36.3    38.5     35.5\n",
       "3  130381.0   34.3  120.1    23.8      70.4     NaN     23.4     NaN     25.4\n",
       "5  130386.0   90.6  173.3    30.2     106.1   110.6     35.7    42.8     36.2"
      ]
     },
     "execution_count": 116,
     "metadata": {},
     "output_type": "execute_result"
    }
   ],
   "source": [
    "cleaned_data_1stphase.dropna(subset=['BMXWAIST', 'BMXARMC', 'BMXARML'])\n",
    "cleaned_data_2stphase=cleaned_data_1stphase.copy()\n",
    "cleaned_data_2stphase.head()"
   ]
  },
  {
   "cell_type": "markdown",
   "id": "6f75af61-7998-4510-8f04-96aff4a3342c",
   "metadata": {},
   "source": [
    "## checking missing value of remaining column'BMXHIP','BMXLEG]"
   ]
  },
  {
   "cell_type": "code",
   "execution_count": 118,
   "id": "d94e8a06-29bf-4ee9-8987-9c1685cba987",
   "metadata": {},
   "outputs": [
    {
     "name": "stdout",
     "output_type": "stream",
     "text": [
      "Missing Percentage: [20.19, 13.6]\n"
     ]
    }
   ],
   "source": [
    "# Columns to check\n",
    "remaining_cols = ['BMXHIP','BMXLEG']\n",
    "\n",
    "# Missing percentage\n",
    "missing_count = cleaned_data_2stphase[remaining_cols].isnull().sum()\n",
    "total_rows = len(cleaned_data_2stphase)\n",
    "missing_percentage = (missing_count / total_rows) * 100\n",
    "print(\"Missing Percentage:\", [round(i, 2) for i in missing_percentage])"
   ]
  },
  {
   "cell_type": "markdown",
   "id": "174071af-80bc-41c3-a3aa-7dd918f5b1b7",
   "metadata": {},
   "source": [
    "### Checking skewness of of column ['BMXHIP','BMXLEG']"
   ]
  },
  {
   "cell_type": "code",
   "execution_count": 135,
   "id": "b5ccc0a1-5e99-431d-a1bd-5c19e6b5df0a",
   "metadata": {},
   "outputs": [
    {
     "data": {
      "image/png": "[encoded data removed]",
      "text/plain": [
       "<Figure size 1400x500 with 2 Axes>"
      ]
     },
     "metadata": {},
     "output_type": "display_data"
    },
    {
     "name": "stdout",
     "output_type": "stream",
     "text": [
      "Skewness (BMXHIP): 1.0345217977866052\n",
      "Skewness (BMXLEG): -0.0747840460148968\n"
     ]
    }
   ],
   "source": [
    "import matplotlib.pyplot as plt\n",
    "import seaborn as sns\n",
    "\n",
    "fig, axes = plt.subplots(1, 2, figsize=(14, 5))\n",
    "\n",
    "# BMXHIP\n",
    "sns.histplot(cleaned_data_2stphase['BMXHIP'], kde=True, ax=axes[0])\n",
    "axes[0].set_title('Distribution of BMXHIP')\n",
    "axes[0].set_xlabel('BMXHIP')\n",
    "\n",
    "# BMXLEG\n",
    "sns.histplot(cleaned_data_2stphase['BMXLEG'], kde=True, ax=axes[1])\n",
    "axes[1].set_title('Distribution of BMXLEG')\n",
    "axes[1].set_xlabel('BMXLEG')\n",
    "\n",
    "plt.tight_layout()\n",
    "plt.show()\n",
    "print(\"Skewness (BMXHIP):\",cleaned_data_2stphase['BMXHIP'].skew())\n",
    "print(\"Skewness (BMXLEG):\", cleaned_data_2stphase['BMXLEG'].skew())\n",
    "\n",
    "\n"
   ]
  },
  {
   "cell_type": "markdown",
   "id": "44b86961-e8cc-4c7a-a033-0f005715d120",
   "metadata": {},
   "source": [
    "## Observations \n",
    "Distribution of BMXHIP seems skewed and Distribution of BMXLEG seems normal.\n",
    "\n",
    "- BMXHIP: 1.03 =Positively skewed = Use Median\n",
    "- BMXLEG: -0.07 =Approximately symmetric = Use Mean\n",
    "  \n",
    "## thumb of rule\n",
    "\n",
    "- If skew() > 1 or < -1 = Highly skewed = Median\n",
    "- If skew() ≈ 0 = Normal = Mean"
   ]
  },
  {
   "cell_type": "code",
   "execution_count": 143,
   "id": "0e7858dc-274d-43f8-8d92-3473ca5b7549",
   "metadata": {},
   "outputs": [
    {
     "data": {
      "text/html": [
       "<div>\n",
       "<style scoped>\n",
       "    .dataframe tbody tr th:only-of-type {\n",
       "        vertical-align: middle;\n",
       "    }\n",
       "\n",
       "    .dataframe tbody tr th {\n",
       "        vertical-align: top;\n",
       "    }\n",
       "\n",
       "    .dataframe thead th {\n",
       "        text-align: right;\n",
       "    }\n",
       "</style>\n",
       "<table border=\"1\" class=\"dataframe\">\n",
       "  <thead>\n",
       "    <tr style=\"text-align: right;\">\n",
       "      <th></th>\n",
       "      <th>SEQN</th>\n",
       "      <th>BMXWT</th>\n",
       "      <th>BMXHT</th>\n",
       "      <th>BMXBMI</th>\n",
       "      <th>BMXWAIST</th>\n",
       "      <th>BMXHIP</th>\n",
       "      <th>BMXARMC</th>\n",
       "      <th>BMXLEG</th>\n",
       "      <th>BMXARML</th>\n",
       "    </tr>\n",
       "  </thead>\n",
       "  <tbody>\n",
       "    <tr>\n",
       "      <th>0</th>\n",
       "      <td>130378.0</td>\n",
       "      <td>86.9</td>\n",
       "      <td>179.5</td>\n",
       "      <td>27.0</td>\n",
       "      <td>98.3</td>\n",
       "      <td>102.9</td>\n",
       "      <td>35.7</td>\n",
       "      <td>42.800000</td>\n",
       "      <td>42.0</td>\n",
       "    </tr>\n",
       "    <tr>\n",
       "      <th>1</th>\n",
       "      <td>130379.0</td>\n",
       "      <td>101.8</td>\n",
       "      <td>174.2</td>\n",
       "      <td>33.5</td>\n",
       "      <td>114.7</td>\n",
       "      <td>112.4</td>\n",
       "      <td>33.7</td>\n",
       "      <td>38.500000</td>\n",
       "      <td>38.7</td>\n",
       "    </tr>\n",
       "    <tr>\n",
       "      <th>2</th>\n",
       "      <td>130380.0</td>\n",
       "      <td>69.4</td>\n",
       "      <td>152.9</td>\n",
       "      <td>29.7</td>\n",
       "      <td>93.5</td>\n",
       "      <td>98.0</td>\n",
       "      <td>36.3</td>\n",
       "      <td>38.500000</td>\n",
       "      <td>35.5</td>\n",
       "    </tr>\n",
       "    <tr>\n",
       "      <th>3</th>\n",
       "      <td>130381.0</td>\n",
       "      <td>34.3</td>\n",
       "      <td>120.1</td>\n",
       "      <td>23.8</td>\n",
       "      <td>70.4</td>\n",
       "      <td>103.7</td>\n",
       "      <td>23.4</td>\n",
       "      <td>38.128843</td>\n",
       "      <td>25.4</td>\n",
       "    </tr>\n",
       "    <tr>\n",
       "      <th>5</th>\n",
       "      <td>130386.0</td>\n",
       "      <td>90.6</td>\n",
       "      <td>173.3</td>\n",
       "      <td>30.2</td>\n",
       "      <td>106.1</td>\n",
       "      <td>110.6</td>\n",
       "      <td>35.7</td>\n",
       "      <td>42.800000</td>\n",
       "      <td>36.2</td>\n",
       "    </tr>\n",
       "  </tbody>\n",
       "</table>\n",
       "</div>"
      ],
      "text/plain": [
       "       SEQN  BMXWT  BMXHT  BMXBMI  BMXWAIST  BMXHIP  BMXARMC     BMXLEG  \\\n",
       "0  130378.0   86.9  179.5    27.0      98.3   102.9     35.7  42.800000   \n",
       "1  130379.0  101.8  174.2    33.5     114.7   112.4     33.7  38.500000   \n",
       "2  130380.0   69.4  152.9    29.7      93.5    98.0     36.3  38.500000   \n",
       "3  130381.0   34.3  120.1    23.8      70.4   103.7     23.4  38.128843   \n",
       "5  130386.0   90.6  173.3    30.2     106.1   110.6     35.7  42.800000   \n",
       "\n",
       "   BMXARML  \n",
       "0     42.0  \n",
       "1     38.7  \n",
       "2     35.5  \n",
       "3     25.4  \n",
       "5     36.2  "
      ]
     },
     "execution_count": 143,
     "metadata": {},
     "output_type": "execute_result"
    }
   ],
   "source": [
    "# Impute BMXHIP with median\n",
    "cleaned_data_2stphase['BMXHIP'].fillna(cleaned_data_2stphase['BMXHIP'].median())\n",
    "\n",
    "# Impute BMXLEG with mean\n",
    "cleaned_data_2stphase['BMXLEG'].fillna(cleaned_data_2stphase['BMXLEG'].mean())\n",
    "\n",
    "\n",
    "cleaned_data_3rdphase=cleaned_data_2stphase.copy()\n",
    "cleaned_data_3rdphase.head()"
   ]
  },
  {
   "cell_type": "markdown",
   "id": "399d0fc5-4159-4b32-af05-7c6a06e30a3c",
   "metadata": {},
   "source": [
    "## Saving  CLeaned Datasets"
   ]
  },
  {
   "cell_type": "code",
   "execution_count": 147,
   "id": "16f6e783-84b2-4db6-a61a-02b2cc5e706a",
   "metadata": {},
   "outputs": [],
   "source": [
    "cleaned_data_3rdphase.to_csv('NHANES_BMI_clean_data.csv',index=False)"
   ]
  },
  {
   "cell_type": "code",
   "execution_count": null,
   "id": "f575b27d-9f80-4448-ab18-b2605a22eec9",
   "metadata": {},
   "outputs": [],
   "source": []
  }
 ],
 "metadata": {
  "kernelspec": {
   "display_name": "Python [conda env:base] *",
   "language": "python",
   "name": "conda-base-py"
  },
  "language_info": {
   "codemirror_mode": {
    "name": "ipython",
    "version": 3
   },
   "file_extension": ".py",
   "mimetype": "text/x-python",
   "name": "python",
   "nbconvert_exporter": "python",
   "pygments_lexer": "ipython3",
   "version": "3.12.7"
  }
 },
 "nbformat": 4,
 "nbformat_minor": 5
}
